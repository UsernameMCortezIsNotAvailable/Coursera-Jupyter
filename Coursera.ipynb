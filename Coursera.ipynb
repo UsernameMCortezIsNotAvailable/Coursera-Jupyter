{
  "metadata": {
    "kernelspec": {
      "name": "python",
      "display_name": "Python (Pyodide)",
      "language": "python"
    },
    "language_info": {
      "codemirror_mode": {
        "name": "python",
        "version": 3
      },
      "file_extension": ".py",
      "mimetype": "text/x-python",
      "name": "python",
      "nbconvert_exporter": "python",
      "pygments_lexer": "ipython3",
      "version": "3.8"
    }
  },
  "nbformat_minor": 4,
  "nbformat": 4,
  "cells": [
    {
      "cell_type": "markdown",
      "source": "Coursera",
      "metadata": {}
    },
    {
      "cell_type": "markdown",
      "source": "Start of the notebook",
      "metadata": {}
    },
    {
      "cell_type": "markdown",
      "source": "1. Julia\n2. Python\n3. R\n4. SQL\n5. Scala",
      "metadata": {}
    },
    {
      "cell_type": "markdown",
      "source": "1. Keras\n2. NumPy\n3. Pandas\n4. Scikit-learn\n5. TensorFlow",
      "metadata": {}
    },
    {
      "cell_type": "markdown",
      "source": "| Tool            |\n|-----------------|\n| JupyterLite     | \n| RStudio         | \n| Watson Studio   |\n| GitHub           | ",
      "metadata": {}
    },
    {
      "cell_type": "markdown",
      "source": "Arithmetic operations",
      "metadata": {}
    },
    {
      "cell_type": "code",
      "source": "a = 2\nb = 3\nop = (a*b) + (a+b)\nop",
      "metadata": {
        "trusted": true
      },
      "outputs": [
        {
          "execution_count": 1,
          "output_type": "execute_result",
          "data": {
            "text/plain": "11"
          },
          "metadata": {}
        }
      ],
      "execution_count": 1
    },
    {
      "cell_type": "code",
      "source": "minutes = 180\nhours = minutes / 60\nhours",
      "metadata": {
        "trusted": true
      },
      "outputs": [
        {
          "execution_count": 2,
          "output_type": "execute_result",
          "data": {
            "text/plain": "3.0"
          },
          "metadata": {}
        }
      ],
      "execution_count": 2
    },
    {
      "cell_type": "markdown",
      "source": "Objectives:\n\n* Learn about Jupyter Notebook\n* Practice creating cells\n* Share the notebook via Github",
      "metadata": {}
    },
    {
      "cell_type": "markdown",
      "source": "Mauricio Cortez",
      "metadata": {}
    },
    {
      "cell_type": "code",
      "source": "",
      "metadata": {
        "trusted": true
      },
      "outputs": [],
      "execution_count": null
    }
  ]
}